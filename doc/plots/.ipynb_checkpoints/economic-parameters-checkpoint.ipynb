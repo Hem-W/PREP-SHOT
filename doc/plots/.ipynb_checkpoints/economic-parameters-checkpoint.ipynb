{
 "cells": [
  {
   "cell_type": "code",
   "execution_count": 99,
   "id": "4d508934",
   "metadata": {},
   "outputs": [],
   "source": [
    "import matplotlib.pyplot as plt\n",
    "# plotting Setting\n",
    "plt.rcParams['font.family'] = 'Myriad Pro'\n",
    "plt.rcParams['font.size'] = 12\n",
    "# plt.rcParams['axes.labelcolor'] = '#5E5E5E'\n",
    "plt.rcParams['text.color'] = '#5E5E5E'\n",
    "plt.rcParams['axes.labelcolor'] = '#5E5E5E'\n",
    "plt.rcParams['xtick.color'] = '#5E5E5E'\n",
    "plt.rcParams['ytick.color'] = '#5E5E5E'\n",
    "plt.rcParams['xtick.direction'] = 'out'"
   ]
  },
  {
   "cell_type": "code",
   "execution_count": 279,
   "id": "43e42730",
   "metadata": {},
   "outputs": [
    {
     "data": {
      "image/png": "[encoded data removed]",
      "text/plain": [
       "<Figure size 432x288 with 1 Axes>"
      ]
     },
     "metadata": {
      "needs_background": "light"
     },
     "output_type": "display_data"
    }
   ],
   "source": [
    "# Calculation of variable costs\n",
    "plt.title('Calculation of variable costs')\n",
    "# plt.text(x=-0.2, y=7, s='Given discount rate = $r$, $m$-th modeled year $m=y-y_{min}$')\n",
    "plt.hlines(y=1, xmin=0, xmax=20, color='blue')\n",
    "plt.vlines(x=range(0,21), ymin=0.5, ymax=1.5, color='blue')\n",
    "plt.vlines(x=range(0,21,4), ymin=0, ymax=2, lw=5, color='blue')\n",
    "plt.ylim(-10, 10)\n",
    "plt.annotate('Variable cost of $m$-th modeled year = $B$', xy=(0, 2.5), xytext=(0, 5),\n",
    "            arrowprops=dict(facecolor='black', shrink=0.05),\n",
    "            )\n",
    "plt.annotate('Variable cost of non-modeled year = $B$', xy=(1, 1.5), xytext=(1, 3.5),\n",
    "            arrowprops=dict(facecolor='black', shrink=0.05),\n",
    "            )\n",
    "plt.annotate(r\"$\\}$\",fontsize=71,\n",
    "            xy=(-0.3, -2.0), rotation=270 # pdf y=-2.5\n",
    "            )\n",
    "plt.text(x=-0.2, y=-4, s='Length of $m$-th planning periods = $k$')\n",
    "# plt.text(x=-0.2, y=-10, s='Total present value \\n= $B + B/(1+r) + B/(1+r)^2 + \\cdots + B/(1+r)^{m+k-1}$ \\n\\\n",
    "# = $B(1+r)^{(1-m)}(1-(1+r)^k)/r$ \\n That is $factor^{var}_{y} = (1+r)^{(1-m)}(1-(1+r)^k)/r$')\n",
    "\n",
    "plt.axis('off')\n",
    "plt.savefig('../source/Model_structure/varcost.png',dpi=300, bbox_inches='tight')"
   ]
  },
  {
   "cell_type": "code",
   "execution_count": 286,
   "id": "76ff2a4c",
   "metadata": {},
   "outputs": [
    {
     "name": "stderr",
     "output_type": "stream",
     "text": [
      "<ipython-input-286-30e02d1f8e80>:14: UserWarning: Setting the 'color' property will override the edgecolor or facecolor properties.\n",
      "  plt.annotate('$A$ ', xy=(x, -0.5), xytext=(x, -4), color='lightgrey',\n"
     ]
    },
    {
     "data": {
      "image/png": "[encoded data removed]",
      "text/plain": [
       "<Figure size 432x288 with 1 Axes>"
      ]
     },
     "metadata": {
      "needs_background": "light"
     },
     "output_type": "display_data"
    }
   ],
   "source": [
    "# Calculation of investment costs\n",
    "plt.title('Calculation of investment costs')\n",
    "# plt.text(x=-0.2, y=7, s='Given weighted average cost of capital (WACC) =$i$, interest rate=$r$, $m$-th modeled year $m=y-y_{min}$')\n",
    "plt.hlines(y=1, xmin=0, xmax=20, color='blue')\n",
    "plt.vlines(x=range(0,21), ymin=0.5, ymax=1.5, color='blue')\n",
    "plt.vlines(x=range(21,31), ymin=0.5, ymax=1.5, color='lightgrey')\n",
    "plt.vlines(x=range(0,21,4), ymin=0, ymax=2, lw=5, color='blue')\n",
    "plt.ylim(-10, 10)\n",
    "plt.annotate('Investment cost of $m$-th modeled year by loan = $P$', xy=(0, 2.5), xytext=(0, 5),\n",
    "            arrowprops=dict(facecolor='black', shrink=0.05),\n",
    "            )\n",
    "for x in range(1,31):\n",
    "    if x > 20:\n",
    "        plt.annotate('$A$ ', xy=(x, -0.5), xytext=(x, -4), color='lightgrey',\n",
    "                    arrowprops=dict(facecolor='black', headwidth=5, width=0.1, color='lightgrey'),\n",
    "                    )\n",
    "    else:\n",
    "        plt.annotate('$A$ ', xy=(x, -0.5), xytext=(x, -4), color='k',\n",
    "                    arrowprops=dict(facecolor='black', headwidth=5, width=0.1),\n",
    "                    )\n",
    "plt.text(x=0,y=-6,s='Annualized cost of depreciation periods  = $A$')\n",
    "# plt.annotate('Investment cost of $m$-th modeled year = $B$', xy=(0, 2.5), xytext=(0, 5),\n",
    "#             arrowprops=dict(facecolor='black', shrink=0.05),\n",
    "#             )\n",
    "# plt.annotate('Variable cost of non-modeled year = $B$', xy=(1, 1.5), xytext=(1, 3.5),\n",
    "#             arrowprops=dict(facecolor='black', shrink=0.05),\n",
    "#             )\n",
    "# plt.annotate(r\"$\\}$\",fontsize=71,\n",
    "#             xy=(-0.3, -2.0), rotation=270 # pdf y=-2.5\n",
    "#             )\n",
    "# plt.text(x=-0.2, y=-4, s='Length of $m$-th planning periods = $k$')\n",
    "# plt.text(x=-0.2, y=-15, s='Total present value \\n= $P/(1+r)^m$\\n=$[A/(1+i) + A/(1+i)^2 + \\cdots + A/(1+i)^{n}]/(1+r)^m$ \\n\\\n",
    "# = $A[i(1+i)^n/((1+i)^{n}-1)]/(1+r)^m$ \\n Then\\nA = $P/[i(1+i)^n/((1+i)^{n}-1)$]')\n",
    "# plt.text(x=-0.2, y=-22, s='Present value of amortization expense excluding planning period \\\n",
    "# (Time period exceeded = $n-(y_{end}-y)$) \\n= $[A/(1+r)^{y_{end}-y+1} + A/(1+r)^{y_{end}-y+2} + \\\n",
    "#          \\cdots + A/(1+r)^{n}]/(1+r)^m$\\\n",
    "# \\n = $A[[(1+r)^{(n-(y_{end}-y))}-1]/(r(1+r)^n)]/(1+r)^m$ \\n Ovepay=$P/[i(1+r)^n/(1+r)^{n-1}]*[[(1+r)^{(n-(y_{end}-y))}-1]/(r(1+r)^n)]/(1+r)^m$') # That is $factor^{var}_{y} = (1+r)^{(1-m)}(1-(1+r)^k)/r\n",
    "\n",
    "plt.axis('off')\n",
    "plt.savefig('../source/Model_structure/invcost.png',dpi=300, bbox_inches='tight')"
   ]
  },
  {
   "cell_type": "code",
   "execution_count": null,
   "id": "39d12130",
   "metadata": {},
   "outputs": [],
   "source": []
  }
 ],
 "metadata": {
  "kernelspec": {
   "display_name": "Python 3",
   "language": "python",
   "name": "python3"
  },
  "language_info": {
   "codemirror_mode": {
    "name": "ipython",
    "version": 3
   },
   "file_extension": ".py",
   "mimetype": "text/x-python",
   "name": "python",
   "nbconvert_exporter": "python",
   "pygments_lexer": "ipython3",
   "version": "3.8.8"
  }
 },
 "nbformat": 4,
 "nbformat_minor": 5
}
